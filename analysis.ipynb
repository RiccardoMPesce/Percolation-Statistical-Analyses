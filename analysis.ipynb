{
 "cells": [
  {
   "cell_type": "markdown",
   "metadata": {},
   "source": [
    "# Statistical analyses for the Percolation Theory Simulator\n",
    "\n",
    "The purpose of this notebook is to analyze the phenomena of Percolation.\n",
    "\n",
    "1. We want to see if the percolation threshold depends on the size.\n",
    "2. We want to analyze the distribution when the sample size gets increasingly bigger.\n",
    "3. How the time needed before the system percolates varies on the size (fixing a threshold) or viceversa.\n",
    "\n",
    "For this purpose we want to import the `api_utils` library, which implements the `APIConnector` class."
   ]
  },
  {
   "cell_type": "code",
   "execution_count": 2,
   "metadata": {},
   "outputs": [],
   "source": [
    "from api_utils import APIConnector"
   ]
  },
  {
   "cell_type": "markdown",
   "metadata": {},
   "source": [
    "Now we want to define the server address, port and API path."
   ]
  },
  {
   "cell_type": "code",
   "execution_count": 3,
   "metadata": {},
   "outputs": [
    {
     "name": "stdout",
     "output_type": "stream",
     "text": [
      "0.0.0.0:5000/simulation/simulate/\n"
     ]
    }
   ],
   "source": [
    "SERVER_ADDRESS = \"0.0.0.0\"\n",
    "SERVER_PORT = \"5000\"\n",
    "SERVER_PATH = \"simulation/simulate\"\n",
    "\n",
    "ac = APIConnector(SERVER_ADDRESS, SERVER_PORT, SERVER_PATH)\n",
    "print(ac.base_path)"
   ]
  }
 ],
 "metadata": {
  "interpreter": {
   "hash": "bdc1c445b68446493975f0f4c1120652b32b7ff2d59b9297499b6aaef4c1ff08"
  },
  "kernelspec": {
   "display_name": "Python 3.9.9 64-bit ('base': conda)",
   "language": "python",
   "name": "python3"
  },
  "language_info": {
   "codemirror_mode": {
    "name": "ipython",
    "version": 3
   },
   "file_extension": ".py",
   "mimetype": "text/x-python",
   "name": "python",
   "nbconvert_exporter": "python",
   "pygments_lexer": "ipython3",
   "version": "3.9.9"
  },
  "orig_nbformat": 4
 },
 "nbformat": 4,
 "nbformat_minor": 2
}
