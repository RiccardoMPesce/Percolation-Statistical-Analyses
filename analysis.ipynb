{
 "cells": [
  {
   "cell_type": "markdown",
   "metadata": {},
   "source": [
    "# Statistical analyses for the Percolation Theory Simulator\n",
    "\n",
    "The purpose of this notebook is to analyze the phenomena of Percolation.\n",
    "\n",
    "1. We want to see if the percolation threshold depends on the size.\n",
    "2. We want to analyze the distribution when the sample size gets increasingly bigger.\n",
    "3. How the time needed before the system percolates varies on the size (fixing a threshold) or viceversa.\n",
    "\n",
    "For this purpose we want to import the `api_utils` library, which implements the `APIConnector` class."
   ]
  },
  {
   "cell_type": "code",
   "execution_count": 2,
   "metadata": {},
   "outputs": [],
   "source": [
    "from api_utils import APIConnector"
   ]
  },
  {
   "cell_type": "markdown",
   "metadata": {},
   "source": [
    "Now we want to define the server address, port and API path."
   ]
  },
  {
   "cell_type": "code",
   "execution_count": 3,
   "metadata": {},
   "outputs": [
    {
     "name": "stdout",
     "output_type": "stream",
     "text": [
      "http://0.0.0.0:5000/simulation/simulate/\n"
     ]
    }
   ],
   "source": [
    "SERVER_ADDRESS = \"0.0.0.0\"\n",
    "SERVER_PORT = \"5000\"\n",
    "SERVER_PATH = \"simulation/simulate\"\n",
    "\n",
    "ac = APIConnector(SERVER_ADDRESS, SERVER_PORT, SERVER_PATH)\n",
    "\n",
    "print(ac.base_path)"
   ]
  },
  {
   "cell_type": "markdown",
   "metadata": {},
   "source": [
    "## 1. How does size affect the Percolation Threshold?\n",
    "\n",
    "The purpose of this section is to analyze if size affects the percolation threshold (which is defined as the probability of a cell site to be open).\n",
    "\n",
    "### Data generation\n",
    "\n",
    "First thing we need to do is to generate some simulation data. Simulation is done by using a minimum size of $n = 1$ and a maximum size of $n = 20$ (thus avoiding complex simulations due to the lattice increasing). Sample size will be $sample\\_size = 100$, to reduce the standard error due to the sampling procedure."
   ]
  },
  {
   "cell_type": "code",
   "execution_count": 4,
   "metadata": {},
   "outputs": [],
   "source": [
    "import numpy as np\n",
    "import pandas as pd \n",
    "import matplotlib.pyplot as plt\n",
    "\n",
    "min_size = 1\n",
    "max_size = 20\n",
    "sample_size = 100\n",
    "\n",
    "# Run only once. It might take up to 10 minutes\n",
    "sample_thresholds = [ac.get_data(n, sample_size).get(\"threshold\") for n in range(min_size, max_size + 1)]"
   ]
  },
  {
   "cell_type": "markdown",
   "metadata": {},
   "source": [
    "### Data Visualization\n",
    "\n",
    "Let's now visualize the results."
   ]
  },
  {
   "cell_type": "code",
   "execution_count": 5,
   "metadata": {},
   "outputs": [
    {
     "data": {
      "image/png": "[encoded data removed]",
      "text/plain": [
       "<Figure size 432x288 with 1 Axes>"
      ]
     },
     "metadata": {
      "needs_background": "light"
     },
     "output_type": "display_data"
    }
   ],
   "source": [
    "plt.title(\"Percolation Threshold by size\")\n",
    "plt.xlabel(\"Size\")\n",
    "plt.ylabel(\"Threshold\")\n",
    "plt.bar(range(min_size, max_size + 1), sample_thresholds)\n",
    "plt.xticks(range(min_size, max_size + 1))\n",
    "\n",
    "plt.show()"
   ]
  },
  {
   "cell_type": "markdown",
   "metadata": {},
   "source": [
    "### Hypothesis Testing using _Chi-Squared Test_\n",
    "\n",
    "From a first sight, we see that, except for size one, all the threshold are roughly equal. If we want to be rigorous about our statements, we might use the statistical framework, in particular we can use the _Chi-Squared Test_ and see if these differences are truly relevant (_Alternative Hypothesis_) or they are just due to random chance (_Null Hypothesis_).\n",
    "\n",
    "It's trivial to understand why for size one the threshold is 1: in order for the system to percolate, the only site has to be open.\n",
    "\n",
    "Having clarified this, and realizing that the percolation threshold is just the proportion of open sites, we can apply the _Chi-Squared Test_ using the relevant `scipy.stats` modules."
   ]
  },
  {
   "cell_type": "code",
   "execution_count": 6,
   "metadata": {},
   "outputs": [
    {
     "name": "stdout",
     "output_type": "stream",
     "text": [
      "Calculated chi2 statistic is 0.9768659203176914 and p-value 0.9999999993722517\n"
     ]
    }
   ],
   "source": [
    "from scipy.stats import chisquare\n",
    "\n",
    "chi2, pval = chisquare(sample_thresholds)\n",
    "\n",
    "print(f\"Calculated chi2 statistic is {chi2} and p-value {pval}\")"
   ]
  },
  {
   "cell_type": "markdown",
   "metadata": {},
   "source": [
    "### Conclusion\n",
    "\n",
    "With such a huge p-value (0.99) it's impossible to reject the null hypothesis, therefore we can easily affirm that __the percolation threshold is not affected by the size__."
   ]
  },
  {
   "cell_type": "markdown",
   "metadata": {},
   "source": [
    "## 2. Distribution Analysis as the sample size varies.\n",
    "\n",
    "Let's now see what varying the sample size causes to the distribution. Even though this is a purely statistical matter, we also want to see the shape of the distribution and we want to compare it with the Normal Distribution.\n",
    "\n",
    "### Data\n",
    "Since we realized that the threshold does not vary with size (for $n \\gt 1$), we can choose $n = 10$ and our sample size will vary in the range $[20,\\ 200]$ with a step of $20$. For each of these samples, we see perform a normality test to see whether the distribution is normal or not."
   ]
  },
  {
   "cell_type": "code",
   "execution_count": 7,
   "metadata": {},
   "outputs": [],
   "source": [
    "from scipy.stats import normaltest\n",
    "\n",
    "n_sample_size = 10\n",
    "min_sample_size = 20\n",
    "max_sample_size = 200\n",
    "step = 20\n",
    "\n",
    "resulting_pvals = []\n",
    "\n",
    "for sample_size in range(min_sample_size, max_sample_size + 1, step):\n",
    "    sample = ac.get_data(n_sample_size, sample_size).get(\"results\")\n",
    "    resulting_pvals += [normaltest(sample)[1]]\n",
    "\n",
    "resulting_pvals = np.array(resulting_pvals)\n",
    "    "
   ]
  },
  {
   "cell_type": "markdown",
   "metadata": {},
   "source": [
    "### Analysis\n",
    "\n",
    "Let's check for which sample size the normality condition holds true. To do so, we choose a significance level of $\\alpha = 0.05$, and when the resulting p-value is greater than such level, we can affirm that the sample comes from the normal distribution. Otherwise, we have to reject such hypothesis."
   ]
  },
  {
   "cell_type": "code",
   "execution_count": 21,
   "metadata": {},
   "outputs": [
    {
     "data": {
      "text/plain": [
       "[0, 1, 2]"
      ]
     },
     "execution_count": 21,
     "metadata": {},
     "output_type": "execute_result"
    }
   ],
   "source": [
    "alpha = 0.05\n",
    "\n",
    "np.where(resulting_pvals > alpha)[0].tolist()"
   ]
  },
  {
   "cell_type": "markdown",
   "metadata": {},
   "source": [
    "The results look interesting, but it would be nice to repeat the process different times (let's say 20), and see if the results hold again. What we are going to do is: for each size we keep track how many times the sample is normal, and see if there's consistency among the results."
   ]
  },
  {
   "cell_type": "code",
   "execution_count": 20,
   "metadata": {},
   "outputs": [
    {
     "name": "stdout",
     "output_type": "stream",
     "text": [
      "For size 20, the sample resulted normal 75.0% times.\n",
      "For size 40, the sample resulted normal 95.0% times.\n",
      "For size 60, the sample resulted normal 75.0% times.\n",
      "For size 80, the sample resulted normal 40.0% times.\n",
      "For size 100, the sample resulted normal 20.0% times.\n",
      "For size 120, the sample resulted normal 5.0% times.\n",
      "For size 140, the sample resulted normal 0.0% times.\n",
      "For size 160, the sample resulted normal 0.0% times.\n",
      "For size 180, the sample resulted normal 0.0% times.\n",
      "For size 200, the sample resulted normal 0.0% times.\n"
     ]
    }
   ],
   "source": [
    "repeat = 20\n",
    "results = [0 for _ in range(min_sample_size, max_sample_size + 1, step)]\n",
    "\n",
    "for _ in range(repeat):\n",
    "    resulting_pvals = []\n",
    "    for sample_size in range(min_sample_size, max_sample_size + 1, step):\n",
    "        sample = ac.get_data(n_sample_size, sample_size).get(\"results\")\n",
    "        resulting_pvals += [normaltest(sample)[1]]\n",
    "\n",
    "    resulting_pvals = np.array(resulting_pvals)\n",
    "    \n",
    "    for index in np.where(resulting_pvals > alpha)[0].tolist():\n",
    "        results[index] += 1\n",
    "\n",
    "frequencies = [result / repeat for result in results]\n",
    "\n",
    "for i, frequency in enumerate(frequencies):\n",
    "    print(f\"For size {min_sample_size + i * step}, the sample resulted normal {frequency * 100}% times.\")"
   ]
  },
  {
   "cell_type": "markdown",
   "metadata": {},
   "source": [
    "Usually we would expect the sample to be normal when it has a huge number of observations (from the \"Law of great numbers\"). Maybe a smaller sample is normal but as the number of observations increase the distribution gets skewed. You can visualize the data better in the R Shiny Dashboard."
   ]
  },
  {
   "cell_type": "markdown",
   "metadata": {},
   "source": []
  }
 ],
 "metadata": {
  "interpreter": {
   "hash": "bdc1c445b68446493975f0f4c1120652b32b7ff2d59b9297499b6aaef4c1ff08"
  },
  "kernelspec": {
   "display_name": "Python 3.9.9 64-bit ('base': conda)",
   "language": "python",
   "name": "python3"
  },
  "language_info": {
   "codemirror_mode": {
    "name": "ipython",
    "version": 3
   },
   "file_extension": ".py",
   "mimetype": "text/x-python",
   "name": "python",
   "nbconvert_exporter": "python",
   "pygments_lexer": "ipython3",
   "version": "3.9.10"
  },
  "orig_nbformat": 4
 },
 "nbformat": 4,
 "nbformat_minor": 2
}
